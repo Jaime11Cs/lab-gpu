{
 "cells": [
  {
   "cell_type": "markdown",
   "id": "f942d288-be01-42cd-9b84-83529c6769be",
   "metadata": {},
   "source": [
    "## Reduction operation: the sum of the numbers in the range [0, value)"
   ]
  },
  {
   "cell_type": "code",
   "execution_count": null,
   "id": "210b721d-00dc-40a7-a07a-9b35de7e6fd4",
   "metadata": {},
   "outputs": [],
   "source": [
    "import sys\n",
    "#captura el parámetro desde la línea de comandos\n",
    "if len(sys.argv) > 1:\n",
    "    value=int(sys.argv[1]) #para converir el argumento de la línea de comandos a entero\n",
    "else:\n",
    "    value = 5*10**4 #Valor predeterminado si no se pasa ningún parámetro\n",
    "print(f\"El valor de 'value' es: {value}\")\n"
   ]
  },
  {
   "cell_type": "code",
   "execution_count": 3,
   "id": "4e30a208-7839-48b2-b0ac-936a2f283d60",
   "metadata": {},
   "outputs": [
    {
     "name": "stdout",
     "output_type": "stream",
     "text": [
      "\n",
      "Apartado utilizando multiprocesing\n",
      "\n",
      "Resultado usando 1 proceso: [19900], Tiempo: 0.0214 segundos\n",
      "Resultado usando 2 procesos: [4950, 14950], Tiempo: 0.0143 segundos\n",
      "Resultado usando 4 procesos: [1225, 3725, 6225, 8725], Tiempo: 0.0230 segundos\n"
     ]
    }
   ],
   "source": [
    "print(\"\\nApartado utilizando multiprocesing\")\n",
    "import time\n",
    "from multiprocessing import Pool\n",
    "import numpy as np\n",
    "def reduc_operation(A):\n",
    "    \"\"\"Compute the sum of the elements of Array A in the range [0, value).\"\"\"\n",
    "    s = 0\n",
    "    for i in range(A.size):\n",
    "        s += A[i]\n",
    "    return s\n",
    "    \n",
    "if __name__ == \"__main__\":\n",
    "    q1 = int(value / 4)\n",
    "    q2 = int(value / 2)\n",
    "    q3 = int(3 * value / 4)\n",
    "    \n",
    "    # Se inicializa pool con 1 proceso\n",
    "    start = time.time()\n",
    "    with Pool(processes=1) as pool:  \n",
    "        resultado1 = pool.map(reduc_operation, [np.arange(0, value)])  # Pasar el array NumPy\n",
    "    end = time.time()\n",
    "    print(f\"\\nResultado usando 1 proceso: {resultado1}, Tiempo: {end - start:.4f} segundos\")\n",
    "    \n",
    "    # Se inicializa pool con 2 procesos\n",
    "    start = time.time()\n",
    "    with Pool(processes=2) as pool:  \n",
    "        resultado2 = pool.map(reduc_operation, [np.arange(0, q2), np.arange(q2, value)])  # 2 arrays\n",
    "    end = time.time()\n",
    "    print(f\"Resultado usando 2 procesos: {resultado2}, Tiempo: {end - start:.4f} segundos\")\n",
    "   \n",
    "    # Se inicializa pool con 4 procesos\n",
    "    start = time.time()\n",
    "    with Pool(processes=4) as pool:  \n",
    "        resultado3 = pool.map(reduc_operation, [np.arange(0, q1), \n",
    "                                                np.arange(q1, q2), \n",
    "                                                np.arange(q2, q3), \n",
    "                                                np.arange(q3, value)])  # 4 arrays\n",
    "    end = time.time()\n",
    "    print(f\"Resultado usando 4 procesos: {resultado3}, Tiempo: {end - start:.4f} segundos\")\n",
    "\n"
   ]
  },
  {
   "cell_type": "code",
   "execution_count": null,
   "id": "98bb592c-ca86-4df5-8a64-857ef101cd34",
   "metadata": {},
   "outputs": [],
   "source": [
    "print(\"\\n Apartado utilizando la función sum_multiprocesing\")\n",
    "def sum_multiprocesing(A,ini,fin):\n",
    "    \"\"\"Compute the sum of the elements of Array A in the range [0, value).\"\"\"\n",
    "    s = 0\n",
    "    for i in range(ini, fin):\n",
    "        s += A[i]\n",
    "    print(f\"Suma desde {ini} hasta {fin} = {s}\")\n",
    "    return s\n",
    "\n",
    "if __name__ == \"__main__\":\n",
    "    A = np.arange(value)  # Crear el array con números de 0 a value-1\n",
    "\n",
    "    # **1. Suma usando 1 proceso**\n",
    "    start = time.time()\n",
    "    with Pool(processes=1) as pool:  \n",
    "        argumentos = [(A, 0, value)]  # Un solo proceso para sumar todo el array\n",
    "        resultado_1_proceso = pool.starmap(sum_multiprocesing, argumentos)\n",
    "    suma_total_1 = sum(resultado_1_proceso)\n",
    "    print(f\"Suma total con 1 proceso: {suma_total_1}\\n\")\n",
    "    end = time.time()\n",
    "    print(f\"Tiempo con 1 proceso: {end - start:.4f} segundos\\n\")\n",
    "\n",
    "    # **2. Suma usando 2 procesos**\n",
    "    start = time.time()\n",
    "    with Pool(processes=2) as pool:  \n",
    "        argumentos = [\n",
    "            (A, 0, value // 2), \n",
    "            (A, value // 2, value)\n",
    "        ]  # Se divide el array en 2 partes\n",
    "        resultado_2_procesos = pool.starmap(sum_multiprocesing, argumentos)\n",
    "    suma_total_2 = sum(resultado_2_procesos)\n",
    "    print(f\"Suma total con 2 procesos: {suma_total_2}\\n\")\n",
    "    end = time.time()\n",
    "    print(f\"Tiempo con 2 procesos: {end - start:.4f} segundos\\n\")\n",
    "\n",
    "    # **3. Suma usando 4 procesos**\n",
    "    start = time.time()\n",
    "    with Pool(processes=4) as pool:  \n",
    "        argumentos = [\n",
    "            (A, 0, value // 4), \n",
    "            (A, value // 4, value // 2), \n",
    "            (A, value // 2, 3 * value // 4), \n",
    "            (A, 3 * value // 4, value)\n",
    "        ]  # Se divide el array en 4 partes\n",
    "        resultado_4_procesos = pool.starmap(sum_multiprocesing, argumentos)\n",
    "    suma_total_4 = sum(resultado_4_procesos)\n",
    "    print(f\"Suma total con 4 procesos: {suma_total_4}\\n\")\n",
    "    end = time.time()\n",
    "    print(f\"Tiempo con 4 procesos: {end - start:.4f} segundos\\n\")"
   ]
  }
 ],
 "metadata": {
  "kernelspec": {
   "display_name": "Python 3 (ipykernel)",
   "language": "python",
   "name": "python3"
  },
  "language_info": {
   "codemirror_mode": {
    "name": "ipython",
    "version": 3
   },
   "file_extension": ".py",
   "mimetype": "text/x-python",
   "name": "python",
   "nbconvert_exporter": "python",
   "pygments_lexer": "ipython3",
   "version": "3.8.17"
  }
 },
 "nbformat": 4,
 "nbformat_minor": 5
}
