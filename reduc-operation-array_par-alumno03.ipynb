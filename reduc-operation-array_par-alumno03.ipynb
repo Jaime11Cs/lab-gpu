{
 "cells": [
  {
   "cell_type": "markdown",
   "id": "f942d288-be01-42cd-9b84-83529c6769be",
   "metadata": {},
   "source": [
    "## Reduction operation: the sum of the numbers in the range [0, value)"
   ]
  },
  {
   "cell_type": "code",
   "execution_count": null,
   "id": "210b721d-00dc-40a7-a07a-9b35de7e6fd4",
   "metadata": {},
   "outputs": [],
   "source": [
    "import sys\n",
    "#captura el parámetro desde la línea de comandos\n",
    "if len(sys.argv) > 1:\n",
    "    value=int(sys.argv[1]) #para converir el argumento de la línea de comandos a entero\n",
    "else:\n",
    "    value = 5*10**4 #Valor predeterminado si no se pasa ningún parámetro\n",
    "print(f\"El valor de 'value' es: {value}\")\n"
   ]
  },
  {
   "cell_type": "code",
   "execution_count": 1,
   "id": "496946fa-2a28-4c1d-8a6a-2ee0b8fd8ced",
   "metadata": {},
   "outputs": [
    {
     "name": "stdout",
     "output_type": "stream",
     "text": [
      "Time taken by reduction operation using a function: 44.8 ms ± 237 µs per loop (mean ± std. dev. of 2 runs, 10 loops each)\n",
      "And the result of the sum of numbers in the range [0, value) is: 24833.52592394871\n",
      "\n",
      "Time taken by reduction operation using numpy.sum(): 90.9 µs ± 282 ns per loop (mean ± std. dev. of 2 runs, 10,000 loops each)\n",
      "Now, the result using numpy.sum(): 24833.525923948546 \n",
      " \n",
      "Time taken by reduction operation using numpy.ndarray.sum(): 72.8 µs ± 628 ns per loop (mean ± std. dev. of 2 runs, 10,000 loops each)\n",
      "Now, the result using numpy.ndarray.sum(): 24833.525923948546\n"
     ]
    }
   ],
   "source": [
    "\n",
    "import numpy as np\n",
    "\n",
    "def reduc_operation(A):\n",
    "    \"\"\"Compute the sum of the elements of Array A in the range [0, value).\"\"\"\n",
    "    s = 0\n",
    "    for i in range(A.size):\n",
    "        s += A[i]\n",
    "    return s\n",
    "\n",
    "# Secuencial\n",
    "X = np.random.rand(value)\n",
    "\n",
    "# Para imprimir los pimeros valores del array\n",
    "\n",
    "# print(X[0:12])\n",
    "\n",
    "# Utilizando las operaciones mágicas de ipython\n",
    "\n",
    "tiempo = %timeit -r 2 -o -q reduc_operation(X)\n",
    "\n",
    "print(\"\\nTiempo tardado por la función reduc operation usando una función:\", tiempo)\n",
    "\n",
    "print(f\"And the result of the sum of numbers in the range [0, value) is: {reduc_operation(X)}\\n\")\n",
    "\n",
    "# Utilizando numpy.sum()\n",
    "\n",
    "tiempo = %timeit -r 2 -o -q np.sum(X)\n",
    "\n",
    "print(\"Tiempo tardado por reduc operation usando numpy.sum():\", tiempo)\n",
    "\n",
    "print(\"Now, the result using numpy.sum():\", np.sum(X),\"\\n \")\n",
    "\n",
    "# Utilizando numpy.ndarray.sum()\n",
    "\n",
    "tiempo= %timeit -r 2 -o -q X.sum()\n",
    "\n",
    "print(\"Tiempo tardado por reduc operation numpy.ndarray.sum():\", tiempo)\n",
    "\n",
    "print(\"Now, the result using numpy.ndarray.sum():\", X.sum())\n",
    "\n",
    "\n"
   ]
  },
  {
   "cell_type": "code",
   "execution_count": 16,
   "id": "4e30a208-7839-48b2-b0ac-936a2f283d60",
   "metadata": {},
   "outputs": [
    {
     "name": "stdout",
     "output_type": "stream",
     "text": [
      "Resultado usando 1 proceso: [1249975000], Tiempo: 0.0997 segundos\n",
      "Resultado usando 2 procesos: [312487500, 937487500], Tiempo: 0.1094 segundos\n",
      "Resultado usando 4 procesos: [78118750, 234368750, 390618750, 546868750], Tiempo: 0.1575 segundos\n"
     ]
    }
   ],
   "source": [
    "print(\"\\nApartado utilizando multiprocesing\")\n",
    "\n",
    "import time\n",
    "from multiprocessing import Pool\n",
    "\n",
    "if __name__ == \"__main__\":\n",
    "    q1 = int(value / 4)\n",
    "    q2 = int(value / 2)\n",
    "    q3 = int(3 * value / 4)\n",
    "    \n",
    "    # Se inicializa pool con 1 proceso\n",
    "    start = time.time()\n",
    "    with Pool(processes=1) as pool:  \n",
    "        resultado1 = pool.map(reduc_operation, [np.arange(0, value)])  # Pasar el array NumPy\n",
    "    end = time.time()\n",
    "    print(f\"\\nResultado usando 1 proceso: {resultado1}, Tiempo: {end - start:.4f} segundos\")\n",
    "    \n",
    "    # Se inicializa pool con 2 procesos\n",
    "    start = time.time()\n",
    "    with Pool(processes=2) as pool:  \n",
    "        resultado2 = pool.map(reduc_operation, [np.arange(0, q2), np.arange(q2, value)])  # 2 arrays\n",
    "    end = time.time()\n",
    "    print(f\"Resultado usando 2 procesos: {resultado2}, Tiempo: {end - start:.4f} segundos\")\n",
    "   \n",
    "    # Se inicializa pool con 4 procesos\n",
    "    start = time.time()\n",
    "    with Pool(processes=4) as pool:  \n",
    "        resultado3 = pool.map(reduc_operation, [np.arange(0, q1), \n",
    "                                                np.arange(q1, q2), \n",
    "                                                np.arange(q2, q3), \n",
    "                                                np.arange(q3, value)])  # 4 arrays\n",
    "    end = time.time()\n",
    "    print(f\"Resultado usando 4 procesos: {resultado3}, Tiempo: {end - start:.4f} segundos\")\n"
   ]
  },
  {
   "cell_type": "code",
   "execution_count": 20,
   "id": "104aa487-9027-4fe0-95bc-0e80ec16731d",
   "metadata": {},
   "outputs": [
    {
     "name": "stdout",
     "output_type": "stream",
     "text": [
      "Time taken by reduction operation using a function: 224 µs ± 7.91 µs per loop (mean ± std. dev. of 2 runs, 1 loop each)\n",
      "And the result of the sum of numbers in the range [0, value) is: 25055.899014552662\n",
      "\n",
      "Time taken by reduction operation using numpy.sum(): 110 µs ± 1.51 µs per loop (mean ± std. dev. of 2 runs, 10,000 loops each)\n",
      "Now, the result using numpy.sum(): 25055.899014552502 \n",
      " \n",
      "Time taken by reduction operation using numpy.ndarray.sum(): 81.1 µs ± 118 ns per loop (mean ± std. dev. of 2 runs, 10,000 loops each)\n",
      "Now, the result using numpy.ndarray.sum(): 25055.899014552502\n"
     ]
    }
   ],
   "source": [
    "print(\"\\nApartado utilizando numba\")\n",
    "import numba\n",
    "\n",
    "@numba.njit\n",
    "def reduc_operation(A):\n",
    "    \"\"\"Compute the sum of the elements of Array A in the range [0, value).\"\"\"\n",
    "    s = 0\n",
    "    for i in range(A.size):\n",
    "        s += A[i]\n",
    "    return s\n",
    "\n",
    "# Secuencial\n",
    "X = np.random.rand(value)\n",
    "\n",
    "# Para imprimir los pimeros valores del array\n",
    "\n",
    "# print(X[0:12])\n",
    "\n",
    "# Utilizando las operaciones mágicas de ipython\n",
    "\n",
    "tiempo = %timeit -r 2 -o -q reduc_operation(X)\n",
    "\n",
    "print(\"\\nTiempo tardado por la función reduc operation usando una función\", tiempo)\n",
    "\n",
    "\n",
    "print(f\"And the result of the sum of numbers in the range [0, value) is: {reduc_operation(X)}\\n\")\n",
    "\n",
    "\n",
    "# Utilizando numpy.sum()\n",
    "\n",
    "tiempo = %timeit -r 2 -o -q np.sum(X)\n",
    "\n",
    "print(\"Tiempo tardado por reduc operation usando numpy.sum():\", tiempo)\n",
    "\n",
    "print(\"Now, the result using numpy.sum():\", np.sum(X),\"\\n \")\n",
    "\n",
    "\n",
    "# Utilizando numpy.ndarray.sum()\n",
    "\n",
    "tiempo= %timeit -r 2 -o -q X.sum()\n",
    "\n",
    "print(\"Tiempo tardado por reduc operation usando numpy.ndarray.sum():\", tiempo)\n",
    "\n",
    "print(\"Now, the result using numpy.ndarray.sum():\", X.sum())\n"
   ]
  },
  {
   "cell_type": "code",
   "execution_count": 27,
   "id": "79ed39e4-5f60-420b-a8fc-edafbe99f5fd",
   "metadata": {},
   "outputs": [
    {
     "name": "stdout",
     "output_type": "stream",
     "text": [
      "Time taken by reduction operation using a function: 19.4 ms ± 2.13 ms per loop (mean ± std. dev. of 2 runs, 1 loop each)\n",
      "And the result of the sum of numbers in the range [0, value) is: 24956.35326737832\n",
      "\n",
      "Time taken by reduction operation using numpy.sum(): 95.9 µs ± 178 ns per loop (mean ± std. dev. of 2 runs, 10,000 loops each)\n",
      "Now, the result using numpy.sum(): 24956.353267378327 \n",
      " \n",
      "Time taken by reduction operation using numpy.ndarray.sum(): 73.4 µs ± 918 ns per loop (mean ± std. dev. of 2 runs, 10,000 loops each)\n",
      "Now, the result using numpy.ndarray.sum(): 24956.353267378327\n"
     ]
    }
   ],
   "source": [
    "print(\"\\nApartado utilizando numba con paralelización\")\n",
    "      \n",
    "from numba import njit, prange\n",
    "@numba.njit(parallel=True)\n",
    "def reduc_operation(A):\n",
    "    \"\"\"Compute the sum of the elements of Array A in the range [0, value).\"\"\"\n",
    "    s = 0\n",
    "    for i in prange(A.size):\n",
    "        s += A[i]\n",
    "    return s\n",
    "    \n",
    "# Secuencial\n",
    "X = np.random.rand(value)\n",
    "\n",
    "# Para imprimir los pimeros valores del array\n",
    "#print(X[0:12])\n",
    "\n",
    "# Utilizando las operaciones mágicas de ipython\n",
    "\n",
    "tiempo = %timeit -r 2 -o -q reduc_operation(X)\n",
    "\n",
    "print(\"\\nTiempo tardado por la función reduc operation usando una función:\", tiempo)\n",
    "\n",
    "\n",
    "print(f\"And the result of the sum of numbers in the range [0, value) is: {reduc_operation(X)}\\n\")\n",
    "\n",
    "\n",
    "# Utilizando numpy.sum()\n",
    "\n",
    "tiempo = %timeit -r 2 -o -q np.sum(X)\n",
    "\n",
    "print(\"Tiempo tardado por reduc operation usando numpy.sum():\", tiempo)\n",
    "\n",
    "print(\"Now, the result using numpy.sum():\", np.sum(X),\"\\n \")\n",
    "\n",
    "\n",
    "# Utilizando numpy.ndarray.sum()\n",
    "\n",
    "tiempo= %timeit -r 2 -o -q X.sum()\n",
    "\n",
    "print(\"Tiempo tardado por reduc operation usando numpy.ndarray.sum():\", tiempo)\n",
    "\n",
    "print(\"Now, the result using numpy.ndarray.sum():\", X.sum())\n"
   ]
  },
  {
   "cell_type": "code",
   "execution_count": null,
   "id": "ae4916f5-bff0-4672-8154-ae6723e8c0bc",
   "metadata": {},
   "outputs": [],
   "source": [
    "#Cuando lo mandamos mediante un script de Bash a la cola Pascal vemos que el tiempo difiere a lo mostrado aquí\n",
    "#Lo primero que hay que decir es que todos los tiempos aumentan, pero sobre todo el tiempo en el que solo se usa la función sin ningún paquete, por ejemplo mientras que ejecutando la primera celda desde el jupyer el tiempo que tarda es 44.8 milisengundos, pasa a tardar casí 45 segundos.\n",
    "#En la segunda celda utilizando multiprocesing vemos que cuantos más núcleos se utilizen mas se reduce el tiempo, siendo una reducción casi lineal, porque si se aumenta por 2 el número de núcleos prácticamente se reduce por dos el tiempo de ejecución.\n",
    "#AL utiilizar Numba por si solo vemos que el tiempo que tarda aumenta una barbaridad cuando se trata de la función, se reduce el tiempo más de 200 veces. En las demás operaciones no disminuye porque están ya mucho más optimizadas con numpy\n",
    "#Por último, al utilizar Numba con paralelización el tiempo vuelve a disminuir sobre todo en la primera operación, reduciendo el tiempo casi en 10 veces respecto a la otra celda. En las otras operaciones se mantiene prácticamente igual, lo que indica que Numpy ya está paralelizada."
   ]
  }
 ],
 "metadata": {
  "kernelspec": {
   "display_name": "Python 3 (ipykernel)",
   "language": "python",
   "name": "python3"
  },
  "language_info": {
   "codemirror_mode": {
    "name": "ipython",
    "version": 3
   },
   "file_extension": ".py",
   "mimetype": "text/x-python",
   "name": "python",
   "nbconvert_exporter": "python",
   "pygments_lexer": "ipython3",
   "version": "3.10.9"
  }
 },
 "nbformat": 4,
 "nbformat_minor": 5
}
