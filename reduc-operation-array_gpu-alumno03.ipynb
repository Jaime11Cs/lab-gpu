{
 "cells": [
  {
   "cell_type": "markdown",
   "id": "f942d288-be01-42cd-9b84-83529c6769be",
   "metadata": {},
   "source": [
    "## Reduction operation: the sum of the numbers in the range [0, value)"
   ]
  },
  {
   "cell_type": "code",
   "execution_count": null,
   "id": "70198ff4-b0e2-4e94-8585-240d25979807",
   "metadata": {},
   "outputs": [],
   "source": [
    "#IMPORTANDO TODAS LAS LIBRERÍAS NECESARIAS\n",
    "import sys\n",
    "import numpy as np\n",
    "import cupy as cp\n",
    "from numba import cuda"
   ]
  },
  {
   "cell_type": "code",
   "execution_count": null,
   "id": "4317b380-2b45-4057-ba4f-a865dabdf18b",
   "metadata": {},
   "outputs": [],
   "source": [
    "\n",
    "#captura el parámetro desde la línea de comandos\n",
    "if len(sys.argv) > 1:\n",
    "    value=int(sys.argv[1]) #para converir el argumento de la línea de comandos a entero\n",
    "else:\n",
    "    value = 5*10**4 #Valor predeterminado si no se pasa ningún parámetro\n",
    "print(f\"El valor de 'value' es: {value}\")"
   ]
  },
  {
   "cell_type": "code",
   "execution_count": 12,
   "id": "d11a2e56-b5d5-4adb-b6bc-cfb0c4cd04fe",
   "metadata": {
    "scrolled": true
   },
   "outputs": [
    {
     "name": "stdout",
     "output_type": "stream",
     "text": [
      "\n",
      " Ejecutando el código original\n",
      "Tiempo tardado por reduc operatio usando una función: 48.5 ms ± 343 µs per loop (mean ± std. dev. of 2 runs, 10 loops each)\n",
      "And the result of the sum of numbers in the range [0, value) is: 250342.19152613677\n",
      "\n",
      "Tiempo tardado por reduc operation usando numpy.sum(): 103 µs ± 69.2 ns per loop (mean ± std. dev. of 2 runs, 10,000 loops each)\n",
      "Now, the result using numpy.sum(): 250342.1915261361 \n",
      " \n",
      "Tiempo tardado por reduc operation usando numpy.ndarray.sum(): 100 µs ± 17.6 ns per loop (mean ± std. dev. of 2 runs, 10,000 loops each)\n",
      "Now, the result using numpy.ndarray.sum(): 250342.1915261361\n"
     ]
    }
   ],
   "source": [
    "\n",
    "print(\"\\n Ejecutando el código original\")\n",
    "def reduc_operation(A):\n",
    "    \"\"\"Compute the sum of the elements of Array A in the range [0, value).\"\"\"\n",
    "    s = 0\n",
    "    for i in range(A.size):\n",
    "        s += A[i]\n",
    "    return s\n",
    "\n",
    "# Secuencial\n",
    "X = np.random.rand(value)\n",
    "\n",
    "# Para imprimir los pimeros valores del array\n",
    "\n",
    "# print(X[0:12])\n",
    "\n",
    "# Utilizando las operaciones mágicas de ipython\n",
    "\n",
    "tiempo = %timeit -r 2 -o -q reduc_operation(X)\n",
    "\n",
    "print(\"Tiempo tardado por reduc operation usando una función:\", tiempo)\n",
    "\n",
    "\n",
    "print(f\"And the result of the sum of numbers in the range [0, value) is: {reduc_operation(X)}\\n\")\n",
    "\n",
    "\n",
    "# Utilizando numpy.sum()\n",
    "\n",
    "tiempo = %timeit -r 2 -o -q np.sum(X)\n",
    "\n",
    "print(\"Tiempo tardado por reduc operation usando numpy.sum():\", tiempo)\n",
    "\n",
    "print(\"Ahora, el resultado utilizando numpy.sum():\", np.sum(X),\"\\n \")\n",
    "\n",
    "\n",
    "# Utilizando numpy.ndarray.sum()\n",
    "\n",
    "tiempo= %timeit -r 2 -o -q X.sum()\n",
    "\n",
    "print(\"Tiempo tardado por reduc operation usando numpy.ndarray.sum():\", tiempo)\n",
    "\n",
    "print(\"Ahora, el tiempo utilizando numpy.ndarray.sum():\", X.sum())"
   ]
  },
  {
   "cell_type": "code",
   "execution_count": 16,
   "id": "21bd407c-e6d5-4b87-b997-9781cd3cff8f",
   "metadata": {},
   "outputs": [
    {
     "name": "stdout",
     "output_type": "stream",
     "text": [
      "Tiempo tardado por cp.sum(): 304 µs ± 2.09 ns per loop (mean ± std. dev. of 2 runs, 10,000 loops each)\n",
      "El resultado usando cp.sum() es: 4998394.344009519\n",
      "\n",
      "Tiempo tardado por X.sum() (CuPy): 304 µs ± 3.69 ns per loop (mean ± std. dev. of 2 runs, 10,000 loops each)\n",
      "El resultado usando X.sum() (CuPy) es: 4998394.344009519\n",
      "\n"
     ]
    }
   ],
   "source": [
    "#Apartado a) Librería Cupy\n",
    "print(\"\\n Ejecutando el apartado A con CUPY\")\n",
    "# Crear el array en la GPU\n",
    "X = cp.random.rand(value)\n",
    "\n",
    "# Suma con CuPy sum()\n",
    "tiempo = %timeit -r 2 -o -q cp.sum(X)\n",
    "print(\"Tiempo tardado por cp.sum():\", tiempo)\n",
    "print(f\"El resultado usando cp.sum() es: {cp.sum(X).get()}\\n\")\n",
    "\n",
    "# Suma usando el método .sum()\n",
    "tiempo = %timeit -r 2 -o -q X.sum()\n",
    "print(\"Tiempo tardado por X.sum() (CuPy):\", tiempo)\n",
    "print(f\"El resultado usando X.sum() (CuPy) es: {X.sum().get()}\\n\")\n"
   ]
  },
  {
   "cell_type": "code",
   "execution_count": 15,
   "id": "c95f7ff5-b278-4e26-914f-691682fce014",
   "metadata": {},
   "outputs": [
    {
     "name": "stdout",
     "output_type": "stream",
     "text": [
      "\n",
      "Ejecutando el apartado B con la librería NUMBA\n",
      "Tiempo tardado por reduc operation usando CUDA: 16.7 ms ± 19.7 ns per loop (mean ± std. dev. of 2 runs, 1,000 loops each)\n",
      "El resultado de la suma usando Numba CUDA es: 16777216.0\n",
      "\n"
     ]
    }
   ],
   "source": [
    "#Apartado B) Librería NUMBA\n",
    "print(\"\\nEjecutando el apartado B con la librería NUMBA\") \n",
    "@cuda.jit\n",
    "def reduc_operation(A, result):\n",
    "    \"\"\"Reducción de la suma de los elementos usando CUDA.\"\"\"\n",
    "    idx = cuda.threadIdx.x + cuda.blockIdx.x * cuda.blockDim.x\n",
    "    if idx < A.size:\n",
    "        cuda.atomic.add(result, 0, A[idx])\n",
    "\n",
    "# Crear el array y enviarlo a la GPU\n",
    "X = np.random.rand(value).astype(np.float32)\n",
    "d_X = cuda.to_device(X)\n",
    "result = cuda.device_array(1, dtype=np.float32)\n",
    "\n",
    "# Definir los hilos y bloques\n",
    "threads_per_block = 256\n",
    "blocks_per_grid = (X.size + threads_per_block - 1) // threads_per_block\n",
    "\n",
    "# Ejecutar la función de reducción\n",
    "tiempo = %timeit -r 2 -o -q reduc_operation[blocks_per_grid, threads_per_block](d_X, result)\n",
    "reduc_operation[blocks_per_grid, threads_per_block](d_X, result)\n",
    "result_numba = result.copy_to_host()[0]\n",
    "\n",
    "print(\"Tiempo tardado por reduc operation usando CUDA:\", tiempo)\n",
    "print(f\"El resultado de la suma usando Numba CUDA es: {result_numba}\\n\")"
   ]
  },
  {
   "cell_type": "code",
   "execution_count": null,
   "id": "778e0b39-47ce-423e-83d7-a7ac07dc25d3",
   "metadata": {},
   "outputs": [],
   "source": [
    "#Resultados al mandarlo a la cola BOHR:\n",
    "#Cuando solo se usa la función reduc_operation el tiempo que tarda en ejecutarse es mucho, esto se debe a que esta poco optimizada.\n",
    "#Cuando utilizamos la librería CUPY, que es una librería muy parecida a NUmpy pero usando la GPU, para hacerlo más rapido todavía.Esta librería es rapidisima y mejora mucho los tiempos con respecto al código original. Por lo que es un paquete muy recomendable cuando vayamos a trabajar con datos muy grandes y dismpongamos de una GPU\n",
    "#Por úlimo la librería NUMBA, también trabaja con GPU pero a difrencia de CUPY tambíen lo hace con CPU, por lo que es altamente recomendable para toda clase de trabajos. Numba utiliza CUDA para hacer cálculos en la GPU. Como vemos en la salida del programa el tiempo que se tarda en más o menos igual que con CUPY, pero a mi parecer NUMBA es prefreible porque es más versatil al poder trabajar tanto con CPU como con GPU"
   ]
  }
 ],
 "metadata": {
  "kernelspec": {
   "display_name": "Python 3 (ipykernel)",
   "language": "python",
   "name": "python3"
  },
  "language_info": {
   "codemirror_mode": {
    "name": "ipython",
    "version": 3
   },
   "file_extension": ".py",
   "mimetype": "text/x-python",
   "name": "python",
   "nbconvert_exporter": "python",
   "pygments_lexer": "ipython3",
   "version": "3.8.17"
  }
 },
 "nbformat": 4,
 "nbformat_minor": 5
}
